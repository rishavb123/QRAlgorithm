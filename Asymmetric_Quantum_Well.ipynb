{
  "nbformat": 4,
  "nbformat_minor": 0,
  "metadata": {
    "colab": {
      "name": "Asymmetric Quantum Well.ipynb",
      "provenance": [],
      "include_colab_link": true
    },
    "kernelspec": {
      "name": "python3",
      "display_name": "Python 3"
    }
  },
  "cells": [
    {
      "cell_type": "markdown",
      "metadata": {
        "id": "view-in-github",
        "colab_type": "text"
      },
      "source": [
        "<a href=\"https://colab.research.google.com/github/rishavb123/QRAlgorithm/blob/master/Asymmetric_Quantum_Well.ipynb\" target=\"_parent\"><img src=\"https://colab.research.google.com/assets/colab-badge.svg\" alt=\"Open In Colab\"/></a>"
      ]
    },
    {
      "cell_type": "markdown",
      "metadata": {
        "id": "wpoNcIiEmOBW",
        "colab_type": "text"
      },
      "source": [
        "# Asymmetric Quantum Well"
      ]
    },
    {
      "cell_type": "markdown",
      "metadata": {
        "id": "lseccLyNnpN4",
        "colab_type": "text"
      },
      "source": [
        "Suppose we have a particle of mass $M$ in a one-dimensional quantum well of width $L$ where the potential $V(x)$ varies inside the well.\n",
        "\n",
        "This problem cannot be solved analytically, but we can solve them on a computer.\n",
        "\n",
        "In a pure state of energy $E$, the spatial part of $\\psi(x)$ of the wavefunction obeys the time-independent Schrodinger equation $\\hat{H}\\psi(x) = E\\psi(x)$, where the Hamiltonian operator $\\hat{H}$ is given by\n",
        "\n",
        "$$\\hat{H} = -\\dfrac{\\hbar^2}{2M}\\dfrac{d^2}{dx^2} + V(x)$$\n",
        "\n",
        "since the walls go infinitely high, the wavefunction goes to 0 outside the well. So, we can express the wavefunction as a Fourier sine series:\n",
        "\n",
        "$$\\psi(x) = \\sum_{n=1}^\\infty \\psi_n \\sin \\dfrac{\\pi nx}{L}$$\n",
        "\n",
        "where $\\psi_1, \\psi_2, \\dots$ are the Fourier coefficients."
      ]
    },
    {
      "cell_type": "markdown",
      "metadata": {
        "id": "N7I-5bBRyjtR",
        "colab_type": "text"
      },
      "source": [
        "For positive integers $m, n \\in \\textbf{N}$, the functions given by $u_n(x) = \\sin \\dfrac{\\pi nx}{L}$ are orthogonal using the function dot product on the interval $(0, L)$:\n",
        "\n",
        "$$\\int_0^L u_n(x)u_m(x) dx$$\n",
        "Applying trigonometry identities and integrating we get\n",
        "\n",
        "$$\\sin\\theta\\sin\\phi = \\frac{1}{2} [\\cos(\\theta - \\phi) - \\cos(\\theta + \\phi)]$$\n",
        "$$\\int_0^L \\sin \\dfrac{\\pi nx}{L}\\sin \\dfrac{\\pi mx}{L} dx = \\frac{1}{2}\\int_0^L [\\cos(\\dfrac{\\pi (n - m)x}{L}) - \\cos(\\dfrac{\\pi (n + m)x}{L})] dx$$\n",
        "$$ = \\frac{1}{2}\\big[\\dfrac{L}{\\pi (n - m)}\\sin\\dfrac{\\pi (n - m)x}{L} - \\dfrac{L}{\\pi (n + m)}\\sin\\dfrac{\\pi (n + m)x}{L}\\big]\\big|_0^L$$\n",
        "$$ = \\frac{1}{2}\\big[\\dfrac{L}{\\pi (n - m)}(\\sin\\pi(n - m)-\\sin0) - \\dfrac{L}{\\pi (n + m)}(\\sin\\pi(n + m) - \\sin0)\\big] = 0$$\n",
        "So for $n \\neq m$,\n",
        "$$<u_n, u_m> = \\int_0^L \\sin \\dfrac{\\pi nx}{L}\\sin \\dfrac{\\pi mx}{L} dx = 0$$\n",
        "and for $n=m$,\n",
        "$$<u_n, u_n> = \\int_0^L \\sin \\dfrac{\\pi nx}{L}\\sin \\dfrac{\\pi nx}{L} dx = L/2$$\n",
        "\n"
      ]
    }
  ]
}