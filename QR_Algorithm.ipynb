{
  "nbformat": 4,
  "nbformat_minor": 0,
  "metadata": {
    "colab": {
      "name": "QR Algorithm",
      "provenance": []
    },
    "kernelspec": {
      "name": "python3",
      "display_name": "Python 3"
    }
  },
  "cells": [
    {
      "cell_type": "markdown",
      "metadata": {
        "id": "2mux59aP9-o2",
        "colab_type": "text"
      },
      "source": [
        "# The QR Algorithm"
      ]
    },
    {
      "cell_type": "markdown",
      "metadata": {
        "id": "HGjWnQLDGmDh",
        "colab_type": "text"
      },
      "source": [
        "First, we will import the required packages\n"
      ]
    },
    {
      "cell_type": "code",
      "metadata": {
        "id": "JBC3wFB6GqXF",
        "colab_type": "code",
        "colab": {
          "base_uri": "https://localhost:8080/",
          "height": 35
        },
        "outputId": "eda238fa-1d85-44e6-cc3a-a3da9c4b11a3"
      },
      "source": [
        "!pip install numpy"
      ],
      "execution_count": 1,
      "outputs": [
        {
          "output_type": "stream",
          "text": [
            "Requirement already satisfied: numpy in /usr/local/lib/python3.6/dist-packages (1.17.4)\n"
          ],
          "name": "stdout"
        }
      ]
    },
    {
      "cell_type": "code",
      "metadata": {
        "id": "3o_4x8uoLUYR",
        "colab_type": "code",
        "colab": {}
      },
      "source": [
        "import numpy as np"
      ],
      "execution_count": 0,
      "outputs": []
    },
    {
      "cell_type": "markdown",
      "metadata": {
        "id": "rc0uA2ADLjsw",
        "colab_type": "text"
      },
      "source": [
        "We are going to create a few utility methods here for future use."
      ]
    },
    {
      "cell_type": "code",
      "metadata": {
        "id": "bZODlWiILncK",
        "colab_type": "code",
        "colab": {}
      },
      "source": [
        "def show(name, arr):\n",
        "    print(name + ':', arr)"
      ],
      "execution_count": 0,
      "outputs": []
    },
    {
      "cell_type": "markdown",
      "metadata": {
        "id": "VoSJzj-e-Jwd",
        "colab_type": "text"
      },
      "source": [
        "First we must code QR decomposition. For this, we start with a real square matrix $A$ and express it in the form $A = QR$, where $Q$ is an orthogonal matrix and $R$ is an upper-triangular matrix.\n",
        "\n",
        "Consider our $N \\times N$ matrix as a set of $N$ columnb vectors $\\vec{a_0}...\\vec{a_{N-1}}$\n",
        "\n",
        "$$A = \\begin{pmatrix} \n",
        "  \\vec{a_0}, \\vec{a_1}, ...\\vec{a_{N-1}}\n",
        "\\end{pmatrix}$$\n",
        "\n",
        "Now we define two new sets of vectors $\\vec{u_0}...\\vec{u_{N-1}}$ and $\\vec{q_0}...\\vec{q_{N-1}}$ as follows:\n",
        "\n",
        "$$\\vec{u_0} = \\vec{a_0} \\qquad \\vec{q_0} = \\dfrac{\\vec{u_0}}{||\\vec{u_0}||}$$\n",
        "$$\\vec{u_1} = \\vec{a_1} - (\\vec{q_0} \\cdot \\vec{a_1})\\vec{q_0} \\qquad \\vec{q_1} = \\dfrac{\\vec{u_1}}{||\\vec{u_1}||}$$\n",
        "$$\\vec{u_2} = \\vec{a_2} - (\\vec{q_0} \\cdot \\vec{a_2})\\vec{q_0} - (\\vec{q_1} \\cdot \\vec{a_2})\\vec{q_1} \\qquad \\vec{q_2} = \\dfrac{\\vec{u_2}}{||\\vec{u_2}||}$$\n",
        "Or in general,\n",
        "$$\\vec{u_i} = \\vec{a_i} - \\sum_{j = 0}^{i - 1}(\\vec{q_j} \\cdot \\vec{a_i})\\vec{q_j} \\qquad \\vec{q_i} = \\dfrac{\\vec{u_i}}{||\\vec{u_i}||}$$\n",
        "This is called the Gram Schmidt Orthogonalization Process, where the set of $\\vec{u_i}$ vectors are orthogonal and the set of $\\vec{q_i}$ vectors are orthonormal.\n",
        "\n",
        "This can be shown by taking the dot product,\n",
        "$$q_i \\cdot q_j = \\left\\{\n",
        "\\begin{array}{ll}\n",
        "      1 & \\text{ if } i = j \\\\\n",
        "      0 & \\text{ if } i \\neq j\n",
        "\\end{array} \n",
        "\\right. $$\n",
        "\n",
        "Now, rearranging, we have\n",
        "$$\\vec{a_0} = ||\\vec{u_0}||\\vec{q_0}$$\n",
        "$$\\vec{a_1} = ||\\vec{u_1}||\\vec{q_1} + (\\vec{q_0} \\cdot \\vec{a_1})\\vec{q_0}$$\n",
        "$$\\vec{a_2} = ||\\vec{u_2}||\\vec{q_2} + (\\vec{q_0} \\cdot \\vec{a_2})\\vec{q_0} + (\\vec{q_1} \\cdot \\vec{a_2})\\vec{q_1}$$\n",
        "Or in general,\n",
        "$$\\vec{a_i} = ||\\vec{u_i}||\\vec{q_i} + \\sum_{j = 0}^{i - 1}(\\vec{q_j} \\cdot \\vec{a_i})\\vec{q_j}$$\n",
        "\n",
        "Now, we can group together the vectors $\\vec{q_i}$ as the columns of a matrix and write all these equations as \n",
        "$$\n",
        "A = \\begin{pmatrix}\n",
        "  \\vec{a_0} & \\vec{a_1} & \\vec{a_2} & \\dots \n",
        "\\end{pmatrix} = \\begin{pmatrix}\n",
        "  \\vec{q_0} & \\vec{q_1} & \\vec{q_2} & \\dots \n",
        "\\end{pmatrix} \\begin{pmatrix}\n",
        "  ||\\vec{u_0}|| & q_0 \\cdot a_1 & q_0 \\cdot a_2 & \\dots \\\\\n",
        "  0 & ||\\vec{u_1}|| & q_1 \\cdot a_2 & \\dots \\\\\n",
        "  0 & 0 & ||\\vec{u_3}|| & \\dots \\\\\n",
        "  \\vdots & \\vdots & \\vdots & \\ddots\n",
        "\\end{pmatrix}\n",
        "$$\n",
        "\n",
        "These two matricies satify our needs as $Q$ and $R$,\n",
        "$$Q = \\begin{pmatrix}\n",
        "  \\vec{q_0} & \\vec{q_1} & \\vec{q_2} & \\dots \n",
        "\\end{pmatrix} \\qquad R = \\begin{pmatrix}\n",
        "  ||\\vec{u_0}|| & q_0 \\cdot a_1 & q_0 \\cdot a_2 & \\dots \\\\\n",
        "  0 & ||\\vec{u_1}|| & q_1 \\cdot a_2 & \\dots \\\\\n",
        "  0 & 0 & ||\\vec{u_3}|| & \\dots \\\\\n",
        "  \\vdots & \\vdots & \\vdots & \\ddots\n",
        "\\end{pmatrix}$$\n",
        "\n",
        "Now, to write this in code as a function:\n",
        "\n"
      ]
    },
    {
      "cell_type": "code",
      "metadata": {
        "id": "kxwqhgdn--XV",
        "colab_type": "code",
        "colab": {}
      },
      "source": [
        "def qr_decomposition(A):\n",
        "    N = len(A)\n",
        "\n",
        "    U = np.empty([N, N])\n",
        "    Q = np.empty([N, N])\n",
        "\n",
        "    for i in range(N):\n",
        "        U[:, i] = A[:, i] - sum([(np.dot(Q[:, j], A[:, i])) * Q[:, j] for j in range(i)])\n",
        "        Q[:, i] = U[:, i] / np.linalg.norm(U[:, i])\n",
        "\n",
        "    R = np.empty([N, N])\n",
        "\n",
        "    for i in range(N):\n",
        "        for j in range(0, N):\n",
        "            R[i, j] = np.dot(Q[:, i], A[:, j]) if j > i else 0\n",
        "        R[i, i] = np.linalg.norm(U[:, i])\n",
        "\n",
        "    return Q, R"
      ],
      "execution_count": 0,
      "outputs": []
    },
    {
      "cell_type": "markdown",
      "metadata": {
        "id": "aSUv6y6_eoBY",
        "colab_type": "text"
      },
      "source": [
        "Create a test matrix A"
      ]
    },
    {
      "cell_type": "code",
      "metadata": {
        "id": "Gqf5UL0QenAp",
        "colab_type": "code",
        "colab": {}
      },
      "source": [
        "A = np.array([[1, 4, 8, 4], [4, 2, 3, 7], [8, 3, 6, 9], [4, 7, 9, 2]])"
      ],
      "execution_count": 0,
      "outputs": []
    },
    {
      "cell_type": "markdown",
      "metadata": {
        "id": "FwVDZx1rJ_N0",
        "colab_type": "text"
      },
      "source": [
        "Now to test this function on the matrix A"
      ]
    },
    {
      "cell_type": "code",
      "metadata": {
        "id": "qemQZiROKC05",
        "colab_type": "code",
        "outputId": "12d0d025-eac5-48c2-bed4-840ad81ac7b8",
        "colab": {
          "base_uri": "https://localhost:8080/",
          "height": 299
        }
      },
      "source": [
        "Q, R = qr_decomposition(A)\n",
        "\n",
        "show(\"A\", A)\n",
        "show(\"Q\", Q)\n",
        "show(\"R\", R)\n",
        "show(\"Q * R\", np.matmul(Q, R))\n"
      ],
      "execution_count": 6,
      "outputs": [
        {
          "output_type": "stream",
          "text": [
            "A: [[1 4 8 4]\n",
            " [4 2 3 7]\n",
            " [8 3 6 9]\n",
            " [4 7 9 2]]\n",
            "Q: [[ 0.10153462  0.558463    0.80981107  0.1483773 ]\n",
            " [ 0.40613847 -0.10686638 -0.14147555  0.8964462 ]\n",
            " [ 0.81227693 -0.38092692  0.22995024 -0.37712564]\n",
            " [ 0.40613847  0.72910447 -0.5208777  -0.17928924]]\n",
            "R: [[ 9.8488578   6.49821546 10.55960012 11.37187705]\n",
            " [ 0.          5.98106979  8.4234836  -0.484346  ]\n",
            " [ 0.          0.          2.74586406  3.27671222]\n",
            " [ 0.          0.          0.          3.11592335]]\n",
            "Q * R: [[1. 4. 8. 4.]\n",
            " [4. 2. 3. 7.]\n",
            " [8. 3. 6. 9.]\n",
            " [4. 7. 9. 2.]]\n"
          ],
          "name": "stdout"
        }
      ]
    },
    {
      "cell_type": "markdown",
      "metadata": {
        "id": "yf3sK94ySgVj",
        "colab_type": "text"
      },
      "source": [
        "Now, using this function, we can implement the QR algorithm as follows:\n",
        "\n",
        "1.   Create an $N \\times N$ matrix $V$ to hold the eigenvectors and initially set it equal to the identity matrx $I$. Also choose a target accuracy $\\epsilon$ for the off-diagnonal elements of the eigenvectors.\n",
        "2.   Calculate the QR decomposition $A = QR$\n",
        "3.   Update $A$ to the new value $A = RQ$\n",
        "4.   Multiply $V$ on the right by $Q$\n",
        "5.   Check the off-diagonal elements of $A$. If they are all less than $\\epsilon$, we are done. Otherwise go back to step 2.\n",
        "\n",
        "Now, we code this into a function to find the eigenvalues and eigenvectors of a matrix $A$.\n",
        "\n"
      ]
    },
    {
      "cell_type": "code",
      "metadata": {
        "id": "DV8vzs51YSQK",
        "colab_type": "code",
        "colab": {}
      },
      "source": [
        "def eigh(A, eps=0.000001, max_iterations=1000):\n",
        "\n",
        "    N = len(A)\n",
        "    V = np.identity(N)\n",
        "\n",
        "    c = 0\n",
        "\n",
        "    while True:\n",
        "\n",
        "        c += 1\n",
        "\n",
        "        Q, R = qr_decomposition(A)\n",
        "        A = np.matmul(R, Q)\n",
        "        V = np.matmul(V, Q)\n",
        "\n",
        "        done = True\n",
        "\n",
        "        for i in range(N):\n",
        "            if not done: break\n",
        "            for j in range(N):\n",
        "                if A[i, j] > eps and i != j:\n",
        "                    done = False\n",
        "                    break\n",
        "\n",
        "        if c >= max_iterations:\n",
        "            done = True\n",
        "\n",
        "        if done:\n",
        "            x = np.array([A[i, i] for i in range(N)])\n",
        "            \n",
        "            return x, V\n"
      ],
      "execution_count": 0,
      "outputs": []
    },
    {
      "cell_type": "markdown",
      "metadata": {
        "id": "SxZ6ZjtVanGd",
        "colab_type": "text"
      },
      "source": [
        "Now to test this function on a matrix A"
      ]
    },
    {
      "cell_type": "code",
      "metadata": {
        "id": "K2Hc1eYoa4gN",
        "colab_type": "code",
        "outputId": "e005a8c6-bccc-4963-a471-d5389c32a2ae",
        "colab": {
          "base_uri": "https://localhost:8080/",
          "height": 105
        }
      },
      "source": [
        "x, V = eigh(A)\n",
        "show(\"x\", x)\n",
        "show(\"V\", V)"
      ],
      "execution_count": 8,
      "outputs": [
        {
          "output_type": "stream",
          "text": [
            "x: [21. -8. -3.  1.]\n",
            "V: [[ 0.43151698 -0.38357064 -0.77459666 -0.25819889]\n",
            " [ 0.38357063  0.43151698 -0.2581989   0.77459667]\n",
            " [ 0.62330228  0.52740965  0.25819889 -0.51639778]\n",
            " [ 0.52740965 -0.62330227  0.51639779  0.25819889]]\n"
          ],
          "name": "stdout"
        }
      ]
    }
  ]
}